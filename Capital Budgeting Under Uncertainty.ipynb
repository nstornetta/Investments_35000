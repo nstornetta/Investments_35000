{
 "cells": [
  {
   "cell_type": "markdown",
   "metadata": {},
   "source": [
    "##### Accounting for Uncertainty\n",
    "\n",
    "The **_opportunity cost of capital_** is the return you could get from the market for bearing the same amount of risk as the project in question. This is also called the **_weighted average cost of capital (WACC)_**.\n",
    "\n",
    "$$ NPV = C_0 + \\sum{ \\frac{E[C_t]}{(1+r)^t}} $$"
   ]
  },
  {
   "cell_type": "markdown",
   "metadata": {},
   "source": [
    "CAPM gives risk-return relationship for an individual security regardless of whether it is efficient. Its expected return is computed as:\n",
    "\n",
    "$$ r_i = r_f + (r_m - r_f) * \\beta_i $$\n",
    "\n",
    "where $$\\beta_i \\equiv \\frac{\\sigma_{im}}{\\sigma_m^2}$$"
   ]
  },
  {
   "cell_type": "markdown",
   "metadata": {},
   "source": [
    "##### Calculating Asset Betas\n",
    "\n",
    "$$\\beta_{Assets} = \\frac{D}{D+E}*\\beta_D + \\frac{E}{D+E}*\\beta_E$$\n",
    "\n",
    "But in practice, it's hard to calculate the debta betas. If we assume that Beta_D = 0, then this becomes easier. This is called _unlevering the equity beta_.\n",
    "\n",
    "$$\\beta_A = \\frac{E}{D+E}*\\beta_E$$\n",
    "\n",
    "where E is the market capitalization of the equity and D is the long term liabilities on the balance sheet."
   ]
  },
  {
   "cell_type": "markdown",
   "metadata": {},
   "source": [
    "##### Weighted average cost of capital\n",
    "\n",
    "$$r^* = \\frac{D}{D+E}*r_D + \\frac{E}{D+E}*r_E $$\n",
    "\n",
    "Because the discount rate from WACC is equal to the CAPM calculation of discount rate, the value of an unlevered firm is the same as the value of a levered firm (under perfect markets: no taxes, no bankruptcy costs, no private information, good behavior).\n",
    "\n",
    "When you incorporate taxes, then you need to change the WACC formula:\n",
    "$$ r^* = \\frac{D}{D+E}*r_D(1-\\tau_C)+\\frac{E}{D+E}*r_E $$"
   ]
  },
  {
   "cell_type": "markdown",
   "metadata": {},
   "source": [
    "##### South Carolina Case\n",
    "**Q:** What's the right percentage of equities to have in their portfolio? <br>\n",
    "**A:** It depends on when they need the money. Early liabilities can be paid with fixed-income securities, while the liabilities that are farther off can be supported by equity, because you can bear the risk and the averaging out of higher returns over that period of time."
   ]
  },
  {
   "cell_type": "code",
   "execution_count": null,
   "metadata": {
    "collapsed": true
   },
   "outputs": [],
   "source": []
  }
 ],
 "metadata": {
  "kernelspec": {
   "display_name": ".env",
   "language": "python",
   "name": ".env"
  },
  "language_info": {
   "codemirror_mode": {
    "name": "ipython",
    "version": 3
   },
   "file_extension": ".py",
   "mimetype": "text/x-python",
   "name": "python",
   "nbconvert_exporter": "python",
   "pygments_lexer": "ipython3",
   "version": "3.6.2"
  }
 },
 "nbformat": 4,
 "nbformat_minor": 2
}
