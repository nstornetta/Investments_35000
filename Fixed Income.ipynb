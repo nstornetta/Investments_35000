{
 "cells": [
  {
   "cell_type": "markdown",
   "metadata": {},
   "source": [
    "##### Term Structure of Interest Rates\n",
    "When we think about bonds, we think about different interest rates for each time period rather than different payments for each time period. This is called the term structure of interest rates, which is _different_ from the yield curve, although they're often conflated. As a result, the new PV formula looks like this:\n",
    "\n",
    "$$PV = \\frac{C_1}{1+r_1} + \\frac{C_2}{(1+r_2)^2} + ... + \\frac{C_T}{(1+r_T)^T}$$\n",
    "\n",
    "When the term structure of interest rates is upward sloping, it means that there is an expectation that interest rates are going to increase over time. The terms slope upwards because it takes a higher interest rate to induce lenders to want to part with their capital over that period of time.\n",
    "\n",
    "Because the term structure is over an indefinite period of time, it gives us information about what the market thinks the term structure will look like at each year in the future as well."
   ]
  },
  {
   "cell_type": "markdown",
   "metadata": {},
   "source": [
    "##### Forward Rates\n",
    "\n",
    "The forward rate is the lending rate one year forward for one year, i.e., next year's rate for a 1-year loan. The standard nomenclature for this is:\n",
    "\n",
    "$$f_{1,2} = f_2$$\n",
    "\n",
    "We calculate the one-year forward rate for a given year by solving this equation:\n",
    "\n",
    "$$(1+r_T)^T = (1+r_{T-1}(1+f_{T-1,T})$$\n",
    "<br>\n",
    "$$f_{t} = \\frac{(1+r_T)^T}{(1+r_{T-1})^{T-1}}-1$$\n",
    "\n",
    "The rate is known as the forward rate for year t.\n",
    "\n",
    "The same idea can be used to calculate future rates for an arbitrary time length (e.g., the two-year forward rate)."
   ]
  },
  {
   "cell_type": "markdown",
   "metadata": {},
   "source": [
    "##### Bond Valuation\n",
    "\n",
    "Yields are specific to a single bond. The term structure is an idea that generalizes across all bonds."
   ]
  },
  {
   "cell_type": "code",
   "execution_count": 1,
   "metadata": {
    "collapsed": true
   },
   "outputs": [],
   "source": [
    "from timeline import *"
   ]
  },
  {
   "cell_type": "code",
   "execution_count": 5,
   "metadata": {},
   "outputs": [],
   "source": [
    "a = TimelineNode(cash=4, time_period=0.5)\n",
    "b = TimelineNode(cash=4, time_period=1.0)\n",
    "c = TimelineNode(cash=4, time_period=1.5)\n",
    "d = TimelineNode(cash=104, time_period=2.0)\n",
    "\n",
    "x = Timeline(discount_rate=.04, nodes=[a,b,c,d])"
   ]
  },
  {
   "cell_type": "code",
   "execution_count": 3,
   "metadata": {},
   "outputs": [
    {
     "data": {
      "text/plain": [
       "discount rate: 0.04\n",
       "PV: 107.69\n",
       "---|------|------|------|---\n",
       "  0.5    1.0    1.5    2.0  \n",
       "  C:4    C:4    C:4   C:104 "
      ]
     },
     "execution_count": 3,
     "metadata": {},
     "output_type": "execute_result"
    }
   ],
   "source": []
  },
  {
   "cell_type": "markdown",
   "metadata": {},
   "source": [
    "##### Bond Rate Volatility\n"
   ]
  },
  {
   "cell_type": "markdown",
   "metadata": {},
   "source": [
    "##### No Trade Theorems\n",
    "\n",
    "A person who is informed cannot take advantage of someone who is uninformed, so long as the person who is uninformed _knows_ that the other person is informed. Market failure occurs when there is asymmetry of information.\n",
    "\n",
    "##### Beauty Contest Games\n",
    "Guess 2/3 of the average game is an example of a beauty contest game. To win the contest, you have to predict how _others_ will behave, not necessarily what the _optimal_ solution is, nor what you subjectively think is the best answer.\n",
    "\n",
    "##### Model Disagreement\n",
    "There's a tendency for models to diverge as new information comes to the market and pins down specific inputs into the valuation of something. This pushes people towards trade, and is a major cause of trade in markets according to research. It also drives price volatility in securities."
   ]
  },
  {
   "cell_type": "code",
   "execution_count": null,
   "metadata": {
    "collapsed": true
   },
   "outputs": [],
   "source": []
  }
 ],
 "metadata": {
  "kernelspec": {
   "display_name": ".env",
   "language": "python",
   "name": ".env"
  },
  "language_info": {
   "codemirror_mode": {
    "name": "ipython",
    "version": 3
   },
   "file_extension": ".py",
   "mimetype": "text/x-python",
   "name": "python",
   "nbconvert_exporter": "python",
   "pygments_lexer": "ipython3",
   "version": "3.6.2"
  }
 },
 "nbformat": 4,
 "nbformat_minor": 2
}
