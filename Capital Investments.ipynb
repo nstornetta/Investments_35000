{
 "cells": [
  {
   "cell_type": "markdown",
   "metadata": {},
   "source": [
    "##### Changes in Net Working Capital\n",
    "\n",
    "$$NWC = Current Assets - Current Liabilities \\\\\n",
    "= Cash + Inventory + Receivables - Payables$$"
   ]
  },
  {
   "cell_type": "markdown",
   "metadata": {},
   "source": [
    "##### Calculating Free Cash Flow\n",
    "\n",
    "$$FCF = (1-\\tau_{c})(Revnues - Expenses) + \\tau_{c}*Depreciation - CapEx - \\Delta NWC$$"
   ]
  },
  {
   "cell_type": "markdown",
   "metadata": {},
   "source": [
    "##### Equity Valuation\n",
    "\n",
    "Today's price equals the present value of the expected dividend plus the PV of the expected price at the end of the year, both discounted at the rate of return _r_.\n",
    "\n",
    "$$r = \\frac{D_1 + P_1}{P_0} - 1 \\\\ P_0 = \\frac{D_1+P_1}{1+r}$$\n",
    "\n",
    "In turn, P<sub>1</sub> is given as:\n",
    "$$P_1 = \\frac{D_2+P_2}{1+r}$$\n",
    "\n",
    "and substituting gives us the general formula for any time period T:\n",
    "\n",
    "$$P_0 = \\sum\\limits_{t=1}^T{\\frac{D_t}{(1+r)^t}} + \\frac{P_T}{(1+r)^T}$$\n",
    "\n",
    "Or, if we let T go to infinity, we're left with:\n",
    "$$P_0 = \\sum\\limits_{t=1}^\\infty{D_t}{(1+r)^t}$$\n",
    "\n",
    "With some simplifying assumptions, we can make things easier. If we assume that the dividend grows at a constant rate, _g_ forever, PV becomes:\n",
    "\n",
    "$$P_0 = \\frac{D_1}{r-g}$$ or $$r = \\frac{D_1}{P_0}+g$$\n",
    "\n",
    "In practice, analysts will commonly use a combination of both. E.g., \n",
    "\n",
    "$$P_0 = \\sum\\limits_{t=1}^T\\frac{D_t}{(1+r)^t} + \\frac{1}{(1+r)^T}*\\frac{D_{T+1}}{r-g}$$"
   ]
  },
  {
   "cell_type": "code",
   "execution_count": 11,
   "metadata": {
    "collapsed": true
   },
   "outputs": [],
   "source": [
    "def equity_val_comb(div_seq, rate_of_return, div_Tplus1, growth_rate):\n",
    "    price = 0\n",
    "    for idx, dividend in enumerate(div_seq): # first get the summation's total\n",
    "        price += dividend/(1+rate_of_return)**(idx+1)\n",
    "    price += (1/(1+rate_of_return)**idx)*(div_Tplus1)/(rate_of_return-growth_rate)\n",
    "    return round(price, 2)"
   ]
  },
  {
   "cell_type": "code",
   "execution_count": 16,
   "metadata": {},
   "outputs": [
    {
     "data": {
      "text/plain": [
       "34.02"
      ]
     },
     "execution_count": 16,
     "metadata": {},
     "output_type": "execute_result"
    }
   ],
   "source": [
    "equity_val_comb([4,4,5.76],0.19, 5.76/1.19, .05)"
   ]
  },
  {
   "cell_type": "code",
   "execution_count": 8,
   "metadata": {},
   "outputs": [],
   "source": [
    "price = 0\n",
    "for idx, dividend in enumerate([4,4,5.76]):\n",
    "    price += dividend/(1+0.19)**(idx+1)"
   ]
  },
  {
   "cell_type": "code",
   "execution_count": 9,
   "metadata": {},
   "outputs": [
    {
     "data": {
      "text/plain": [
       "9.604078902940316"
      ]
     },
     "execution_count": 9,
     "metadata": {},
     "output_type": "execute_result"
    }
   ],
   "source": [
    "price"
   ]
  },
  {
   "cell_type": "code",
   "execution_count": null,
   "metadata": {
    "collapsed": true
   },
   "outputs": [],
   "source": []
  }
 ],
 "metadata": {
  "kernelspec": {
   "display_name": ".env",
   "language": "python",
   "name": ".env"
  },
  "language_info": {
   "codemirror_mode": {
    "name": "ipython",
    "version": 3
   },
   "file_extension": ".py",
   "mimetype": "text/x-python",
   "name": "python",
   "nbconvert_exporter": "python",
   "pygments_lexer": "ipython3",
   "version": "3.6.2"
  }
 },
 "nbformat": 4,
 "nbformat_minor": 2
}
