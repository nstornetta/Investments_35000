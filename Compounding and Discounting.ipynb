{
 "cells": [
  {
   "cell_type": "code",
   "execution_count": 1,
   "metadata": {
    "collapsed": true
   },
   "outputs": [],
   "source": [
    "from sympy.solvers import solve\n",
    "from sympy import symbols, summation, Sum, Function, init_printing\n",
    "init_printing()\n",
    "\n",
    "import scipy.optimize as spo"
   ]
  },
  {
   "cell_type": "markdown",
   "metadata": {},
   "source": [
    "##### Future Value of Cash Today\n",
    "\n",
    "The future value in T years of C dollars at the interest rate r compounded m times is equal to:\n",
    "\n",
    "$$FV_{t} = C(1+\\frac{r}{m})^{mT}$$\n",
    "\n",
    "and the T-year compounding factor is:\n",
    "\n",
    "$$CF_{t} = 1 + \\frac{r}{m}^{mT}$$"
   ]
  },
  {
   "cell_type": "code",
   "execution_count": 10,
   "metadata": {
    "collapsed": true
   },
   "outputs": [],
   "source": [
    "def fv_of_cash_with_compound(cash, interest_rate, num_compounds, years):\n",
    "    return round(cash*(1+(interest_rate/num_compounds))**(num_compounds*years), 2)"
   ]
  },
  {
   "cell_type": "markdown",
   "metadata": {},
   "source": [
    "##### Example: \n",
    "\n",
    "What is the future value of present-day cash with an interest rate of 10%, compounding twice per year, in ten years?"
   ]
  },
  {
   "cell_type": "code",
   "execution_count": 11,
   "metadata": {},
   "outputs": [
    {
     "data": {
      "text/plain": [
       "71393.12"
      ]
     },
     "execution_count": 11,
     "metadata": {},
     "output_type": "execute_result"
    }
   ],
   "source": [
    "fv_of_cash_with_compound(59436.96, 0.063, 1, 3)"
   ]
  },
  {
   "cell_type": "markdown",
   "metadata": {},
   "source": [
    "##### Effective Annual Interest Rate\n",
    "Given the above, we can choose to think about investments that compound more often than annually and convert them into equivalent investments _as if_ they compounded annually. This is called the **effective annual rate** or the **annual percentage rate.**"
   ]
  },
  {
   "cell_type": "markdown",
   "metadata": {},
   "source": [
    "##### Discounting and Present Value\n"
   ]
  },
  {
   "cell_type": "code",
   "execution_count": 7,
   "metadata": {
    "collapsed": true
   },
   "outputs": [],
   "source": [
    "def present_value_stream(discount_rate, cash_seq):\n",
    "    # NOTE: Assumes that first payment is in period 1\n",
    "    total_pv = 0\n",
    "    for time_period, cash_flow in enumerate(cash_seq):\n",
    "        total_pv += cash_flow/(1+discount_rate)**(time_period+1)\n",
    "    return round(total_pv,2)"
   ]
  },
  {
   "cell_type": "code",
   "execution_count": 8,
   "metadata": {},
   "outputs": [
    {
     "data": {
      "text/plain": [
       "59436.96"
      ]
     },
     "execution_count": 8,
     "metadata": {},
     "output_type": "execute_result"
    }
   ],
   "source": [
    "present_value_stream(.063, [11412,22824,34236])"
   ]
  },
  {
   "cell_type": "markdown",
   "metadata": {},
   "source": [
    "##### Perpetuities and Annuities"
   ]
  },
  {
   "cell_type": "markdown",
   "metadata": {},
   "source": [
    "Present value of an annuity is:\n",
    "\n",
    "$$PV_0 = \\frac{C}{r} (1-\\frac{1}{(1+r)^T})$$"
   ]
  },
  {
   "cell_type": "code",
   "execution_count": 2,
   "metadata": {
    "collapsed": true
   },
   "outputs": [],
   "source": [
    "def present_value_perpetuity(discount_rate, cash_flow, t_first_payment=1, growth_rate=0):\n",
    "    \"\"\"Present value of a perpetuity with optional arguments for a deferred first payment and a growth rate.\"\"\"\n",
    "    pv = cash_flow/(discount_rate-growth_rate)\n",
    "    pv_discounted_back = pv*(1/(1+discount_rate)**(t_first_payment-1))\n",
    "    return round(pv_discounted_back, 2)"
   ]
  },
  {
   "cell_type": "code",
   "execution_count": 14,
   "metadata": {},
   "outputs": [
    {
     "data": {
      "text/plain": [
       "5000.0"
      ]
     },
     "execution_count": 14,
     "metadata": {},
     "output_type": "execute_result"
    }
   ],
   "source": [
    "present_value_perpetuity(.08, 400, 1)"
   ]
  },
  {
   "cell_type": "markdown",
   "metadata": {},
   "source": [
    "We can think of an annuity as being the difference between two perpetuities. "
   ]
  },
  {
   "cell_type": "code",
   "execution_count": 16,
   "metadata": {
    "collapsed": true
   },
   "outputs": [],
   "source": [
    "def present_value_annuity(discount_rate, cash_flow, t_last_payment, t_first_payment=1, growth_rate=0):\n",
    "    pv = cash_flow/discount_rate*(1-(1/(1+discount_rate)**t_last_payment))\n",
    "    pv_discounted = pv*(1/(1+discount_rate)**(t_first_payment-1))\n",
    "    return round(pv_discounted, 2)"
   ]
  },
  {
   "cell_type": "code",
   "execution_count": 40,
   "metadata": {
    "collapsed": true
   },
   "outputs": [],
   "source": [
    "def payment_per_period_annuity(target_pv, discount_rate, t_last_payment, t_first_payment=1, monthly_payment=1):\n",
    "    \"\"\"Work in progress, but this works recursively to identify what the right payment is for an annuity \n",
    "    rounded to the nearest integer (and from there you can work out what the right # of cents is)\"\"\"\n",
    "    curr_pv1 = present_value_annuity(discount_rate, monthly_payment, t_last_payment, t_first_payment)\n",
    "    curr_pv2 = present_value_annuity(discount_rate, monthly_payment+1, t_last_payment, t_first_payment)\n",
    "    if target_pv - curr_pv1 < 1:\n",
    "        return monthly_payment\n",
    "    else:\n",
    "        if abs(target_pv - curr_pv1) < abs(target_pv - curr_pv2):\n",
    "            return payment_per_period_annuity(target_pv, discount_rate, t_last_payment, t_first_payment, monthly_payment-1)\n",
    "        else:\n",
    "            return payment_per_period_annuity(target_pv, discount_rate, t_last_payment, t_first_payment, monthly_payment+1)"
   ]
  },
  {
   "cell_type": "code",
   "execution_count": 41,
   "metadata": {},
   "outputs": [
    {
     "data": {
      "text/plain": [
       "173"
      ]
     },
     "execution_count": 41,
     "metadata": {},
     "output_type": "execute_result"
    }
   ],
   "source": [
    "payment_per_period_annuity(9000, .0047416, 60)"
   ]
  },
  {
   "cell_type": "markdown",
   "metadata": {},
   "source": [
    "###### Problem Set 1 #3:\n",
    "\n",
    "Suppose you deposit $1,000 in an account at the end of each of the next four years. If the account earns 12% annually, how much will be in the account at the end of seven years?\n",
    "\n",
    "First, we should find the present value of the annuity. Then we can determine what the future value of that cash is in 7 years' time."
   ]
  },
  {
   "cell_type": "code",
   "execution_count": 22,
   "metadata": {},
   "outputs": [
    {
     "data": {
      "image/png": "[encoded data removed]",
      "text/latex": [
       "$$209190.53$$"
      ],
      "text/plain": [
       "209190.53"
      ]
     },
     "execution_count": 22,
     "metadata": {},
     "output_type": "execute_result"
    }
   ],
   "source": [
    "present_value_annuity(.12, 1000, 4)"
   ]
  },
  {
   "cell_type": "code",
   "execution_count": 18,
   "metadata": {},
   "outputs": [
    {
     "data": {
      "image/png": "[encoded data removed]",
      "text/latex": [
       "$$6714.61$$"
      ],
      "text/plain": [
       "6714.61"
      ]
     },
     "execution_count": 18,
     "metadata": {},
     "output_type": "execute_result"
    }
   ],
   "source": [
    "fv_of_cash_with_compound(3037.35, .12, 1, 7)"
   ]
  },
  {
   "cell_type": "markdown",
   "metadata": {},
   "source": [
    "Amerisave.com for mortgage rates"
   ]
  },
  {
   "cell_type": "markdown",
   "metadata": {},
   "source": [
    "##### Investment Decision Rules"
   ]
  },
  {
   "cell_type": "markdown",
   "metadata": {},
   "source": [
    "Net present value rule always leads to the investment decisions that are in the shareholder's best interest.\n",
    "\n",
    "Discount rate is also known as the opportunity cost of capital, because it helps you understand whether your investment project can \"beat\" what it would do if you just invested that money at whatever that expected rate of return is for an alternative project."
   ]
  },
  {
   "cell_type": "code",
   "execution_count": 10,
   "metadata": {
    "collapsed": true
   },
   "outputs": [],
   "source": [
    "def net_present_value(discount_rate, cash_seq):\n",
    "    \"\"\"The net present value of an investment is equivalent\n",
    "    to the present value of the cash stream, being sure to include\n",
    "    the cost of the investment within the stream itself\n",
    "    \"\"\"\n",
    "    return present_value_stream(discount_rate, cash_seq)"
   ]
  },
  {
   "cell_type": "markdown",
   "metadata": {},
   "source": [
    "**Example:** Consider a project with a 5,000 investment upfront and cash flows of 2,000 in time periods 1-3. What is the net present value of the project if the discount rate is 5%? Can you solve for the discount rate that would result in an NPV of 0?"
   ]
  },
  {
   "cell_type": "code",
   "execution_count": 11,
   "metadata": {},
   "outputs": [
    {
     "data": {
      "image/png": "[encoded data removed]",
      "text/latex": [
       "$$425.23$$"
      ],
      "text/plain": [
       "425.23"
      ]
     },
     "execution_count": 11,
     "metadata": {},
     "output_type": "execute_result"
    }
   ],
   "source": [
    "net_present_value(.05, [-5000,2000,2000,2000])"
   ]
  },
  {
   "cell_type": "markdown",
   "metadata": {},
   "source": [
    "##### Internal Rate of Return"
   ]
  },
  {
   "cell_type": "markdown",
   "metadata": {},
   "source": [
    "##### Profitability Index Rule\n",
    "\n",
    "The profitability index is defined as the NPV of future cash flows divided by the initial investment.\n",
    "\n",
    "$$PI = \\frac{NPV}{-C_{0}}$$\n",
    "\n",
    "Note that the PI rule is equivalent to the NPV rule provided that C<sub>0</sub> < 0. We must flip the acceptance rule if we are thinking about borrowing projects."
   ]
  },
  {
   "cell_type": "code",
   "execution_count": null,
   "metadata": {
    "collapsed": true
   },
   "outputs": [],
   "source": []
  }
 ],
 "metadata": {
  "kernelspec": {
   "display_name": ".env",
   "language": "python",
   "name": ".env"
  },
  "language_info": {
   "codemirror_mode": {
    "name": "ipython",
    "version": 3
   },
   "file_extension": ".py",
   "mimetype": "text/x-python",
   "name": "python",
   "nbconvert_exporter": "python",
   "pygments_lexer": "ipython3",
   "version": "3.6.2"
  }
 },
 "nbformat": 4,
 "nbformat_minor": 2
}
